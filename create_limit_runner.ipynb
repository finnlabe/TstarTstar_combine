{
 "cells": [
  {
   "cell_type": "code",
   "execution_count": 1,
   "id": "16c31d7e",
   "metadata": {},
   "outputs": [],
   "source": [
    "import os"
   ]
  },
  {
   "cell_type": "code",
   "execution_count": 2,
   "id": "f0b04384",
   "metadata": {},
   "outputs": [],
   "source": [
    "years = [\"\"]\n",
    "channels = [\"total\"]\n",
    "region = \"SR\"\n",
    "masspoints = [700, 800, 900, 1000, 1100, 1200, 1300, 1400, 1500, 1600, 1700, 1800, 1900, 2000, 2250, 2500, 2750]\n",
    "spinpostfix = \"\" # options are \"\" and \"_Spin32\"\n",
    "do_observed = False\n",
    "\n",
    "rMin = -10\n",
    "rMax = 10"
   ]
  },
  {
   "cell_type": "code",
   "execution_count": 3,
   "id": "32a9170c",
   "metadata": {},
   "outputs": [],
   "source": [
    "def command_one_limit(year, channel, masspoint, spinpostfix, is_observed=False):\n",
    "    \n",
    "    datacard = \"cards/\" + year + \"/\" + str(masspoint) + \"_pt_ST_\" + channel + \"_\" + region + spinpostfix + \".dat\"\n",
    "    identifier = year + \"_\" + str(masspoint) + \"_\" + channel + spinpostfix\n",
    "    \n",
    "    if not is_observed: return \"combine -M AsymptoticLimits --rMin \" + str(rMin) + \" --rMax \" + str(rMax) + \" -m 125 --run blind -d \" + datacard + \" | tee >(grep Expected > outputs/AsymptoticLimits_\" + identifier + \".txt) > outputs/log_\" + identifier + \".log\"\n",
    "    else: return \"combine -M AsymptoticLimits --rMin \" + str(rMin) + \" --rMax \" + str(rMax) + \" -m 125 -d \" + datacard + \" | tee >(grep Expected > outputs/AsymptoticLimits_\" + identifier + \"_observed.txt) > outputs/log_\" + identifier + \"_observed.log\"\n"
   ]
  },
  {
   "cell_type": "code",
   "execution_count": 4,
   "id": "7dd326db",
   "metadata": {},
   "outputs": [
    {
     "name": "stdout",
     "output_type": "stream",
     "text": [
      "Writing file...\n",
      "Writing , total, 700.\n",
      "Writing , total, 800.\n",
      "Writing , total, 900.\n",
      "Writing , total, 1000.\n",
      "Writing , total, 1100.\n",
      "Writing , total, 1200.\n",
      "Writing , total, 1300.\n",
      "Writing , total, 1400.\n",
      "Writing , total, 1500.\n",
      "Writing , total, 1600.\n",
      "Writing , total, 1700.\n",
      "Writing , total, 1800.\n",
      "Writing , total, 1900.\n",
      "Writing , total, 2000.\n",
      "Writing , total, 2250.\n",
      "Writing , total, 2500.\n",
      "Writing , total, 2750.\n"
     ]
    }
   ],
   "source": [
    "with open(\"limit_runner.sh\", \"w\") as file:\n",
    "    \n",
    "    print(\"Writing file...\")\n",
    "    if(spinpostfix == \"_32\"): print(\"We are in 3/2 spin case!\")\n",
    "        \n",
    "    file.write(\"#!/bin/bash\\n\\n\")\n",
    "    \n",
    "    for year in years:\n",
    "        for channel in channels:\n",
    "            for masspoint in masspoints:\n",
    "                \n",
    "                print('Writing ' + year + ', ' + channel + ', ' + str(masspoint) + '.')\n",
    "                \n",
    "                file.write('echo \"Working on ' + year + ', ' + channel + ', ' + str(masspoint) + '.\"\\n')\n",
    "                file.write(command_one_limit(year, channel, masspoint, spinpostfix) + \"\\n\")\n",
    "                \n",
    "                if do_observed:\n",
    "                    file.write('echo \"Working on ' + year + ', ' + channel + ', ' + str(masspoint) + ' observed.\"\\n')\n",
    "                    file.write(command_one_limit(year, channel, masspoint, spinpostfix, is_observed=True) + \"\\n\")\n",
    "                    \n",
    "        file.write(\"\\n\")"
   ]
  },
  {
   "cell_type": "code",
   "execution_count": null,
   "id": "d1cc500f",
   "metadata": {},
   "outputs": [],
   "source": []
  },
  {
   "cell_type": "code",
   "execution_count": null,
   "id": "9ea7b778",
   "metadata": {},
   "outputs": [],
   "source": []
  },
  {
   "cell_type": "code",
   "execution_count": null,
   "id": "a4781434",
   "metadata": {},
   "outputs": [],
   "source": []
  }
 ],
 "metadata": {
  "kernelspec": {
   "display_name": "ac3_l1treqs2",
   "language": "python",
   "name": "ac3_l1treqs2"
  },
  "language_info": {
   "codemirror_mode": {
    "name": "ipython",
    "version": 3
   },
   "file_extension": ".py",
   "mimetype": "text/x-python",
   "name": "python",
   "nbconvert_exporter": "python",
   "pygments_lexer": "ipython3",
   "version": "3.10.12"
  }
 },
 "nbformat": 4,
 "nbformat_minor": 5
}
