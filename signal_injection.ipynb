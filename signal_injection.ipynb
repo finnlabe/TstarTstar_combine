{
 "cells": [
  {
   "cell_type": "code",
   "execution_count": 1,
   "id": "fae3b503",
   "metadata": {},
   "outputs": [],
   "source": [
    "import os"
   ]
  },
  {
   "cell_type": "code",
   "execution_count": 2,
   "id": "bdef551c",
   "metadata": {},
   "outputs": [
    {
     "name": "stdout",
     "output_type": "stream",
     "text": [
      "SR_M-1200_Spin32__total_0.2\n"
     ]
    }
   ],
   "source": [
    "# settings\n",
    "\n",
    "n = '400' # default: 400, less for testing purposes : e.g. 50\n",
    "year = \"\" # unused\n",
    "channel = \"total\" # options are mu, ele and total\n",
    "spinpostfix = \"_Spin32\" # options are \"\" and \"_Spin32\"\n",
    "region = \"SR\"\n",
    "\n",
    "injected_signal = 0.2\n",
    "rmin = -10\n",
    "rmax = 10\n",
    "masspoint = \"1200\"\n",
    "\n",
    "datacard = \"cards_combined/\" + masspoint + \"_pt_ST_\" + channel + \"_\" + region + spinpostfix + \".dat\"\n",
    "\n",
    "workdir = \"workdir_signal_injection\"\n",
    "\n",
    "do_condor = True\n",
    "path = \"/nfs/dust/cms/user/flabe/TstarTstar/combine/CMSSW_10_2_13/src/HiggsAnalysis/CombinedLimit/data/TstarTstar/\"+workdir\n",
    "\n",
    "tag = region + \"_M-\" + masspoint + spinpostfix + \"_\" + year + \"_\" + channel + \"_\" + str(injected_signal)\n",
    "print(tag)\n",
    "\n",
    "bash = \"#!/bin/bash\\n\""
   ]
  },
  {
   "cell_type": "code",
   "execution_count": 3,
   "id": "ff0dd929",
   "metadata": {},
   "outputs": [],
   "source": [
    "# add environment setting if condor\n",
    "if do_condor:\n",
    "    bash += 'source /cvmfs/cms.cern.ch/cmsset_default.sh\\n'\n",
    "    bash += 'cd ~\\n'\n",
    "    bash += 'cd /nfs/dust/cms/user/flabe/TstarTstar/combine/CMSSW_10_2_13/src\\n'\n",
    "    bash += 'eval `scramv1 runtime -sh`'\n",
    "    bash += 'cd ' + path + '\\n'"
   ]
  },
  {
   "cell_type": "code",
   "execution_count": 4,
   "id": "c67c62ad",
   "metadata": {},
   "outputs": [
    {
     "name": "stdout",
     "output_type": "stream",
     "text": [
      "workdir already exists\n",
      "text2workspace.py ../cards_combined/1200_pt_ST_total_SR_Spin32.dat -o workspace.root\n"
     ]
    }
   ],
   "source": [
    "# step 0: first lets create a working directory\n",
    "if (os.path.isdir(workdir)): print(\"workdir already exists\")\n",
    "else: os.mkdir(workdir)\n",
    "\n",
    "# first command to be run is text2workspace\n",
    "text2workspacecommand = \"text2workspace.py ../{} -o workspace.root\".format(datacard, workdir)\n",
    "print(text2workspacecommand)\n",
    "bash += text2workspacecommand + \"\\n\"\n",
    "bash += 'echo \"Done text2workspace\"\\n'"
   ]
  },
  {
   "cell_type": "code",
   "execution_count": 5,
   "id": "22c680ab",
   "metadata": {},
   "outputs": [
    {
     "name": "stdout",
     "output_type": "stream",
     "text": [
      "combine -M MultiDimFit -d workspace.root -v 1 -m 125 -t 400 --setParameters r=0.2 --rMin -10 --rMax 10 --saveWorkspace --algo=singles -n SR_M-1200_Spin32__total_0.2 --cminDefaultMinimizerStrategy 0 --robustFit=1 --robustHesse 1 > step1_SR_M-1200_Spin32__total_0.2.log\n"
     ]
    }
   ],
   "source": [
    "# step 1: initial fit\n",
    "\n",
    "command_step1 = \"combine -M MultiDimFit\" # command base\n",
    "command_step1 += ' -d workspace.root' # adding workspace\n",
    "command_step1 += ' -v 1' # print out verbosity level\n",
    "command_step1 += ' -m 125' # higgs mass, because why not\n",
    "command_step1 += ' -t {}'.format(n) # toys\n",
    "command_step1 += ' --setParameters r={}'.format(injected_signal) # signal to be injected\n",
    "command_step1 += ' --rMin {} --rMax {}'.format(rmin, rmax) # some r ranges\n",
    "command_step1 += ' --saveWorkspace' # saving the resulting workspace?\n",
    "command_step1 += ' --algo=singles' # ???\n",
    "command_step1 += ' -n {}'.format(tag) # tag\n",
    "command_step1 += ' --cminDefaultMinimizerStrategy 0'\n",
    "command_step1 += ' --robustFit=1 --robustHesse 1'\n",
    "command_step1 += ' > step1_{}.log'.format(tag) # log\n",
    "\n",
    "print(command_step1)\n",
    "bash += command_step1 + \"\\n\"\n",
    "bash += 'echo \"Done step 1\"\\n'"
   ]
  },
  {
   "cell_type": "code",
   "execution_count": 6,
   "id": "3589907b",
   "metadata": {},
   "outputs": [
    {
     "name": "stdout",
     "output_type": "stream",
     "text": [
      "combine -M GenerateOnly -d higgsCombineSR_M-1200_Spin32__total_0.2.MultiDimFit.mH125.123456.root -m 125 --expectSignal 0.2 --rMin -10 --rMax 10 -t 400 --toysFrequentist --bypassFrequentistFit --saveToys --snapshotName \"MultiDimFit\" -n SR_M-1200_Spin32__total_0.2 >> step2_SR_M-1200_Spin32__total_0.2.log\n"
     ]
    }
   ],
   "source": [
    "# step 2: generating toys\n",
    "\n",
    "command_step2 = 'combine -M GenerateOnly' # command base\n",
    "command_step2 += ' -d higgsCombine{}.MultiDimFit.mH125.123456.root'.format(tag) # workspace from step1\n",
    "command_step2 += ' -m 125' # higgs mass, because why not\n",
    "command_step2 += ' --expectSignal {}'.format(injected_signal)\n",
    "command_step2 += ' --rMin {} --rMax {}'.format(rmin, rmax) # some r ranges\n",
    "command_step2 += ' -t {} --toysFrequentist --bypassFrequentistFit'.format(n) # toys\n",
    "command_step2 += ' --saveToys'\n",
    "command_step2 += ' --snapshotName \"MultiDimFit\"'\n",
    "command_step2 += ' -n {}'.format(tag) # tag\n",
    "command_step2 += ' >> step2_{}.log'.format(tag) # log\n",
    "\n",
    "print(command_step2)\n",
    "bash += command_step2 + \"\\n\"\n",
    "bash += 'echo \"Done step 2\"\\n'"
   ]
  },
  {
   "cell_type": "code",
   "execution_count": 7,
   "id": "65767e70",
   "metadata": {},
   "outputs": [
    {
     "name": "stdout",
     "output_type": "stream",
     "text": [
      "combine -M FitDiagnostics -d higgsCombineSR_M-1200_Spin32__total_0.2.MultiDimFit.mH125.123456.root --toysFile higgsCombineSR_M-1200_Spin32__total_0.2.GenerateOnly.mH125.123456.root -t 400 --toysFrequentist --bypassFrequentistFit --setParameters r=0.2 --rMin -10 --rMax 10 --saveWorkspace --noErrors --minos none -n SR_M-1200_Spin32__total_0.2 --cminDefaultMinimizerStrategy 0 --robustFit=1 --robustHesse 1 >> step3_SR_M-1200_Spin32__total_0.2.log\n"
     ]
    }
   ],
   "source": [
    "# step 3: running the fit\n",
    "\n",
    "command_step3 = 'combine -M FitDiagnostics'\n",
    "command_step3 += ' -d higgsCombine{}.MultiDimFit.mH125.123456.root'.format(tag) # workspace from step1\n",
    "command_step3 += ' --toysFile higgsCombine{}.GenerateOnly.mH125.123456.root'.format(tag) # toys file from step 2\n",
    "command_step3 += ' -t {} --toysFrequentist --bypassFrequentistFit'.format(n) \n",
    "command_step3 += ' --setParameters r={}'.format(injected_signal)\n",
    "command_step3 += ' --rMin {} --rMax {}'.format(rmin, rmax) # some r ranges\n",
    "command_step3 += ' --saveWorkspace'\n",
    "command_step3 += ' --noErrors --minos none'\n",
    "command_step3 += ' -n {}'.format(tag) # tag\n",
    "command_step3 += ' --cminDefaultMinimizerStrategy 0'\n",
    "command_step3 += ' --robustFit=1 --robustHesse 1'\n",
    "command_step3 += ' >> step3_{}.log'.format(tag) # log\n",
    "\n",
    "print(command_step3)\n",
    "bash += command_step3 + \"\\n\"\n",
    "bash += 'echo \"Done step 3\"\\n'"
   ]
  },
  {
   "cell_type": "code",
   "execution_count": 8,
   "id": "1d2edf29",
   "metadata": {},
   "outputs": [
    {
     "name": "stdout",
     "output_type": "stream",
     "text": [
      "python ../plot_bias_pull.py -i fitDiagnosticsSR_M-1200_Spin32__total_0.2.root -t 400 -r 0.2 -o SR_M-1200_Spin32__total_0.2 --label \"full run 2, ele + muNEWLINEm(t*) = 1200spin 3/2\" >> step4_SR_M-1200_Spin32__total_0.2.log\n"
     ]
    }
   ],
   "source": [
    "# step 4: plotting\n",
    "\n",
    "command_step4 = 'python ../plot_bias_pull.py'\n",
    "command_step4 += ' -i fitDiagnostics{}.root'.format(tag) # input file\n",
    "command_step4 += ' -t {}'.format(n) # toys\n",
    "command_step4 += ' -r {}'.format(injected_signal) # injected signal\n",
    "command_step4 += ' -o {}'.format(tag) # tag\n",
    "command_step4 += ' --label \"{}, {}NEWLINEm(t*) = {}\"'.format(year if year != \"\" else \"full run 2\", \"ele + mu\" if channel == \"total\" else channel, masspoint + spinpostfix.replace(\"_Spin32\", \"spin 3/2\")) # tag\n",
    "command_step4 += ' >> step4_{}.log'.format(tag) # log\n",
    "\n",
    "print(command_step4)\n",
    "bash += command_step4 + \"\\n\"\n",
    "bash += 'echo \"Done step 4\"\\n'"
   ]
  },
  {
   "cell_type": "code",
   "execution_count": 9,
   "id": "be564920",
   "metadata": {},
   "outputs": [],
   "source": [
    "# put all into a bash file\n",
    "with open(workdir+\"/signal_injection_script.sh\", \"w\") as file:\n",
    "    file.write(bash)"
   ]
  },
  {
   "cell_type": "code",
   "execution_count": 10,
   "id": "45b75790",
   "metadata": {},
   "outputs": [],
   "source": [
    "# create a condor submit script for that bash script\n",
    "\n",
    "script = \"\"\n",
    "\n",
    "script += 'executable = '+path+'/signal_injection_script.sh\\n'\n",
    "script += 'output = '+path+'/condor.log\\n'\n",
    "script += 'error = '+path+'/condor.log\\n'\n",
    "script += 'batch_name = signal_injection_test\\n'\n",
    "script += 'queue 1'\n",
    "\n",
    "with open(workdir+\"/condor.submit\", \"w\") as file:\n",
    "    file.write(script)"
   ]
  },
  {
   "cell_type": "code",
   "execution_count": null,
   "id": "25678db1",
   "metadata": {},
   "outputs": [],
   "source": []
  }
 ],
 "metadata": {
  "kernelspec": {
   "display_name": "k_fwk_2_0_0",
   "language": "python",
   "name": "k_fwk_2_0_0"
  },
  "language_info": {
   "codemirror_mode": {
    "name": "ipython",
    "version": 3
   },
   "file_extension": ".py",
   "mimetype": "text/x-python",
   "name": "python",
   "nbconvert_exporter": "python",
   "pygments_lexer": "ipython3",
   "version": "3.10.13"
  }
 },
 "nbformat": 4,
 "nbformat_minor": 5
}
