{
 "cells": [
  {
   "cell_type": "code",
   "execution_count": 1,
   "id": "b237c7fd",
   "metadata": {},
   "outputs": [],
   "source": [
    "import uproot\n",
    "import numpy as np\n",
    "import matplotlib.pyplot as plt\n",
    "import mplhep as hep\n",
    "import os"
   ]
  },
  {
   "cell_type": "code",
   "execution_count": 4,
   "id": "efc9dbf8",
   "metadata": {},
   "outputs": [
    {
     "name": "stdout",
     "output_type": "stream",
     "text": [
      "Please run the following command:\n",
      "text2workspace.py cards//1000_pt_ST_total_VR.dat -m 125 -o workdir_impacts/workspace.root\n"
     ]
    }
   ],
   "source": [
    "# copying the datacard to the working directory\n",
    "# then a command has to be run in the bash shel where combine is activated\n",
    "\n",
    "run_blind = False\n",
    "masspoint = \"1000\"\n",
    "spinpostfix = \"\"\n",
    "year = \"\"\n",
    "region = \"VR\"\n",
    "\n",
    "datacard = \"cards/\" + year + \"/\" + masspoint + \"_pt_ST_total_\" + region + spinpostfix + \".dat\"\n",
    "\n",
    "os.system(\"cp {} workdir_impacts/datacard.txt\".format(datacard))\n",
    "\n",
    "command = \"text2workspace.py {} -m 125 -o workdir_impacts/workspace.root\".format(datacard)\n",
    "print(\"Please run the following command:\")\n",
    "print(command)"
   ]
  },
  {
   "cell_type": "code",
   "execution_count": 6,
   "id": "2b77c17a",
   "metadata": {},
   "outputs": [
    {
     "name": "stdout",
     "output_type": "stream",
     "text": [
      "please execute these in your workdir area:\n",
      "combineTool.py -M Impacts -d workspace.root --rMin -2 --rMax 2 -m 125  --doInitialFit --robustFit 1 > log.txt\n",
      "combineTool.py -M Impacts -d workspace.root --rMin -2 --rMax 2 -m 125  --robustFit 1 --doFits  > log.txt\n",
      "combineTool.py -M Impacts -d workspace.root -m 125 -o impacts.json\n",
      "plotImpacts.py -i impacts.json -o impacts\n"
     ]
    }
   ],
   "source": [
    "# then CD to the workdir and run some commands\n",
    "# in the end you will have the impacts in a pdf file\n",
    "\n",
    "if run_blind:\n",
    "    run_blind_string = \"-t -1 --expectSignal 0\"\n",
    "else:\n",
    "    run_blind_string = \"\"\n",
    "\n",
    "command_initial = \"combineTool.py -M Impacts -d workspace.root --rMin -2 --rMax 2 -m 125 {} --doInitialFit --robustFit 1 &> log.txt\".format(run_blind_string)\n",
    "command_fits = \"combineTool.py -M Impacts -d workspace.root --rMin -2 --rMax 2 -m 125 {} --robustFit 1 --doFits &> log.txt\".format(run_blind_string)\n",
    "command_impacts = \"combineTool.py -M Impacts -d workspace.root -m 125 -o impacts.json\"\n",
    "command_plots = \"plotImpacts.py -i impacts.json -o impacts\"\n",
    "\n",
    "print(\"please execute these in your workdir area:\")\n",
    "print(command_initial)\n",
    "print(command_fits)\n",
    "print(command_impacts)\n",
    "print(command_plots)"
   ]
  },
  {
   "cell_type": "code",
   "execution_count": null,
   "id": "b8ff4345",
   "metadata": {},
   "outputs": [],
   "source": []
  },
  {
   "cell_type": "code",
   "execution_count": null,
   "id": "7f9ad2a2",
   "metadata": {},
   "outputs": [],
   "source": []
  }
 ],
 "metadata": {
  "kernelspec": {
   "display_name": "ac3_l1treqs2",
   "language": "python",
   "name": "ac3_l1treqs2"
  },
  "language_info": {
   "codemirror_mode": {
    "name": "ipython",
    "version": 3
   },
   "file_extension": ".py",
   "mimetype": "text/x-python",
   "name": "python",
   "nbconvert_exporter": "python",
   "pygments_lexer": "ipython3",
   "version": "3.10.12"
  }
 },
 "nbformat": 4,
 "nbformat_minor": 5
}
