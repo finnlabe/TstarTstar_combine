{
 "cells": [
  {
   "cell_type": "code",
   "execution_count": 1,
   "id": "b237c7fd",
   "metadata": {},
   "outputs": [],
   "source": [
    "import uproot\n",
    "import numpy as np\n",
    "import matplotlib.pyplot as plt\n",
    "import mplhep as hep\n",
    "import os"
   ]
  },
  {
   "cell_type": "code",
   "execution_count": 2,
   "id": "efc9dbf8",
   "metadata": {},
   "outputs": [
    {
     "name": "stdout",
     "output_type": "stream",
     "text": [
      "Please run the following command:\n",
      "text2workspace.py ../cards_combined/1200_pt_ST_total_SR.dat -m 125 -o workspace.root\n"
     ]
    }
   ],
   "source": [
    "# copying the datacard to the working directory\n",
    "# then a command has to be run in the bash shell where combine is activated\n",
    "\n",
    "run_blind = False\n",
    "blind_signal_strength = True\n",
    "masspoint = \"1200\"\n",
    "spinpostfix = \"\"\n",
    "year = \"\"\n",
    "region = \"SR\"\n",
    "channel = \"total\"\n",
    "rmin = -10\n",
    "rmax = 10\n",
    "\n",
    "datacard = \"cards_combined/\" + masspoint + \"_pt_ST_\" + channel + \"_\" + region + spinpostfix + \".dat\"\n",
    "\n",
    "command = \"text2workspace.py ../{} -m 125 -o workspace.root\".format(datacard)\n",
    "print(\"Please run the following command:\")\n",
    "print(command)"
   ]
  },
  {
   "cell_type": "code",
   "execution_count": 3,
   "id": "2b77c17a",
   "metadata": {},
   "outputs": [
    {
     "name": "stdout",
     "output_type": "stream",
     "text": [
      "please execute these in your workdir area:\n",
      "combineTool.py -M Impacts -d workspace.root --rMin -10 --rMax 10 -m 125  --doInitialFit --robustFit 1 &> log.txt\n",
      "combineTool.py -M Impacts -d workspace.root --rMin -10 --rMax 10 -m 125  --robustFit 1 --doFits --parallel 10 &> log.txt\n",
      "combineTool.py -M Impacts -d workspace.root -m 125 -o impacts.json\n",
      "plotImpacts.py -i impacts.json -o impacts --blind\n"
     ]
    }
   ],
   "source": [
    "# then CD to the workdir and run some commands\n",
    "# in the end you will have the impacts in a pdf file\n",
    "\n",
    "if run_blind:\n",
    "    run_blind_string = \"-t -1 --expectSignal 1\"\n",
    "else:\n",
    "    run_blind_string = \"\"\n",
    "\n",
    "command_initial = \"combineTool.py -M Impacts -d workspace.root --rMin {} --rMax {} -m 125 {} --doInitialFit --robustFit 1 &> log.txt\".format(rmin, rmax, run_blind_string)\n",
    "command_fits = \"combineTool.py -M Impacts -d workspace.root --rMin {} --rMax {} -m 125 {} --robustFit 1 --doFits --parallel 10 &> log.txt\".format(rmin, rmax, run_blind_string)\n",
    "command_impacts = \"combineTool.py -M Impacts -d workspace.root -m 125 -o impacts.json\"\n",
    "if blind_signal_strength: command_plots = \"plotImpacts.py -i impacts.json -o impacts --blind\"\n",
    "else: command_plots = \"plotImpacts.py -i impacts.json -o impacts\"\n",
    "\n",
    "print(\"please execute these in your workdir area:\")\n",
    "print(command_initial)\n",
    "print(command_fits)\n",
    "print(command_impacts)\n",
    "print(command_plots)"
   ]
  },
  {
   "cell_type": "code",
   "execution_count": null,
   "id": "b8ff4345",
   "metadata": {},
   "outputs": [],
   "source": []
  },
  {
   "cell_type": "code",
   "execution_count": null,
   "id": "7f9ad2a2",
   "metadata": {},
   "outputs": [],
   "source": []
  },
  {
   "cell_type": "code",
   "execution_count": null,
   "id": "e3850e66",
   "metadata": {},
   "outputs": [],
   "source": []
  }
 ],
 "metadata": {
  "kernelspec": {
   "display_name": "k_fwk_2_0_0",
   "language": "python",
   "name": "k_fwk_2_0_0"
  },
  "language_info": {
   "codemirror_mode": {
    "name": "ipython",
    "version": 3
   },
   "file_extension": ".py",
   "mimetype": "text/x-python",
   "name": "python",
   "nbconvert_exporter": "python",
   "pygments_lexer": "ipython3",
   "version": "3.10.13"
  }
 },
 "nbformat": 4,
 "nbformat_minor": 5
}
